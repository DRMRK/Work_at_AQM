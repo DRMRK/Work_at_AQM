{
 "cells": [
  {
   "cell_type": "code",
   "execution_count": 25,
   "metadata": {},
   "outputs": [
    {
     "data": {
      "text/plain": [
       "82.5"
      ]
     },
     "execution_count": 25,
     "metadata": {},
     "output_type": "execute_result"
    }
   ],
   "source": [
    "import numpy as np\n",
    "import matplotlib.pyplot as plt\n",
    "x=np.array([78,80,80,81,82,83,85,85,86,87])\n",
    "np.median(x)"
   ]
  },
  {
   "cell_type": "markdown",
   "metadata": {},
   "source": [
    "Median=Q2=M=(82+83)/2=82.5\n",
    "Q1=median of the lower half,i.e 78 80 80 81 82 =80\n",
    "Q3=median of the upper half, i.e 83,85,85,86,87 =85\n",
    "Therefore IQR=Q3-Q1=85-80=5\n",
    "Min =78 and Max=87\n",
    "--So we have five number summary !\n",
    "Min Q1 median Q3 Max\n",
    "78  80 82.5   85 87\n",
    "\n",
    "This can be seen in the following boxplot."
   ]
  },
  {
   "cell_type": "code",
   "execution_count": 26,
   "metadata": {},
   "outputs": [
    {
     "data": {
      "image/png": "[encoded data removed]",
      "text/plain": [
       "<Figure size 432x288 with 1 Axes>"
      ]
     },
     "metadata": {},
     "output_type": "display_data"
    }
   ],
   "source": [
    "plt.boxplot(x);\n",
    "plt.grid()"
   ]
  },
  {
   "cell_type": "markdown",
   "metadata": {},
   "source": [
    "This is much more compact than histogram\n",
    "-- Quick and dirty visual \n",
    "-- Gives rough idea of how data is distributed\n",
    "-- shows center/typical value\n",
    "-- positon of median line indicates symmetric/asymmetric, positive/negative skews\n",
    "--IQR gives middle 50%\n",
    "-- Min to max gives entire range\n",
    "--1.5 IQR is outlier\n",
    "--3 IQR is for extreme outlier"
   ]
  },
  {
   "cell_type": "code",
   "execution_count": 29,
   "metadata": {},
   "outputs": [
    {
     "data": {
      "text/plain": [
       "array([78, 80, 80, 81, 82, 83, 85, 85, 86, 87])"
      ]
     },
     "execution_count": 29,
     "metadata": {},
     "output_type": "execute_result"
    }
   ],
   "source": [
    "x1=np.sort(x)\n",
    "x1"
   ]
  },
  {
   "cell_type": "code",
   "execution_count": 114,
   "metadata": {},
   "outputs": [
    {
     "data": {
      "image/png": "[encoded data removed]",
      "text/plain": [
       "<Figure size 432x288 with 1 Axes>"
      ]
     },
     "metadata": {},
     "output_type": "display_data"
    }
   ],
   "source": [
    "measurements = np.random.normal(loc = 0, scale = 1, size=100)   \n",
    "def quantil(x):\n",
    "    xquant=[]\n",
    "    x=np.sort(x)\n",
    "    for i in np.arange(0,len(x)):\n",
    "        xq=(np.quantile(x,((i+1)-.5)/len(x)))\n",
    "        xquant.append(xq)\n",
    "    return (xquant)\n",
    "a=quantil(measurements) \n",
    "plt.plot(a,np.sort(measurements),'.');"
   ]
  }
 ],
 "metadata": {
  "kernelspec": {
   "display_name": "Python 3",
   "language": "python",
   "name": "python3"
  },
  "language_info": {
   "codemirror_mode": {
    "name": "ipython",
    "version": 3
   },
   "file_extension": ".py",
   "mimetype": "text/x-python",
   "name": "python",
   "nbconvert_exporter": "python",
   "pygments_lexer": "ipython3",
   "version": "3.6.6"
  }
 },
 "nbformat": 4,
 "nbformat_minor": 2
}
