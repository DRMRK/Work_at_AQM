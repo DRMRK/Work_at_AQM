{
 "cells": [
  {
   "cell_type": "code",
   "execution_count": 15,
   "metadata": {},
   "outputs": [],
   "source": [
    "#This implements two layer neural network with hints from Usman Malick's code at StackAbuse.com\n",
    "#Weights and biases are found using gradient descent.\n",
    "import numpy as np\n",
    "import matplotlib.pyplot as plt\n",
    "import random\n",
    "#Activation functions\n",
    "def tanh(x):\n",
    "    return np.tanh(x)\n",
    "#Derivative of activation function\n",
    "def tanh_deriv(x):\n",
    "    return 1.0 - np.tanh(x)**2"
   ]
  },
  {
   "cell_type": "code",
   "execution_count": 16,
   "metadata": {},
   "outputs": [],
   "source": [
    "#This is data \n",
    "data_feature=np.array([[-0.5,-0.5],[0.5,-0.5],[-0.5,0.5],[0.5,0.5]])\n",
    "data_labels=np.array([[-0.5],[0.5],[0.5],[-0.5]])"
   ]
  },
  {
   "cell_type": "code",
   "execution_count": 17,
   "metadata": {},
   "outputs": [
    {
     "name": "stdout",
     "output_type": "stream",
     "text": [
      "minimum cost 2.4850659258417382e-29\n"
     ]
    },
    {
     "data": {
      "image/png": "[encoded data removed]",
      "text/plain": [
       "<Figure size 432x288 with 1 Axes>"
      ]
     },
     "metadata": {
      "needs_background": "light"
     },
     "output_type": "display_data"
    }
   ],
   "source": [
    "#Add number of neurons in the hidden layer\n",
    "neuron_h_layer=6\n",
    "#Initialize the weights and biases\n",
    "#Weights to neuron in hidden layer, dimension(2,neuron_h_layer)\n",
    "wh = np.random.uniform(-.5,.5,size=(len(data_feature[0]),neuron_h_layer)) \n",
    "#Weights to neuron in output layer, dimension(neuron_h_layer,1)\n",
    "wo = np.random.uniform(-.5,.5,size=(neuron_h_layer, 1)) \n",
    "#bias hidden layer,dimension(neuron_h_layer,1)\n",
    "biash=np.random.uniform(-0.5,0.5,size=(1,neuron_h_layer))\n",
    "#bias output\n",
    "biaso=np.random.uniform(-0.5,0.5,size=(1,1))\n",
    "#learning rate\n",
    "lr = 0.1 \n",
    "#Initialize for making the cost plot\n",
    "xplot=[]\n",
    "costplot=[]\n",
    "#Train the network, this implements stochastic gradient descent, taking 1 sample at a time\n",
    "#in each epoch, online, on-line, or incremental learning.\n",
    "for epoch in range(5000): \n",
    "    #First randomly choose a sample from the dataset, doing 1 at a time \n",
    "    #Create an array of indexes, same as length of training data\n",
    "    a=np.arange(len(data_feature))\n",
    "    #Randomly shuffle the array\n",
    "    random.shuffle(a)\n",
    "    #Pick the first element of a and choose one data point and the corresponding label\n",
    "    data=data_feature[[a[0]]] #make sure it is a numpy array and not a vector\n",
    "    data_l=data_labels[[a[0]]]\n",
    "    # First feedforward, goes to first hidden layer\n",
    "    zh = np.dot(data, wh)+biash\n",
    "    #Activation of first hidden layer \n",
    "    ah = tanh(zh)\n",
    "    #Output layer, takes previous layer output as input\n",
    "    zo = np.dot(ah, wo)+biaso\n",
    "    #This is output from the neural network\n",
    "    ao = tanh(zo)\n",
    "\n",
    "    # Calculate error\n",
    "    error_out = ((1 / 2) * (np.power((ao - data_l), 2)))\n",
    "    \n",
    "    #Back propagation, first output layer\n",
    "    dcost_dao = ao - data_l\n",
    "    dao_dzo = tanh_deriv(zo) \n",
    "    dzo_dwo = ah\n",
    "    dcost_wo = np.dot(dzo_dwo.T, dcost_dao * dao_dzo)\n",
    "\n",
    "    # Go to hidden layer\n",
    "\n",
    "    dcost_dzo = dcost_dao * dao_dzo #known from above\n",
    "    dzo_dah = wo\n",
    "    dcost_dah = np.dot(dcost_dzo , dzo_dah.T)\n",
    "    dah_dzh = tanh_deriv(zh) \n",
    "    dzh_dwh = data\n",
    "    dcost_wh = np.dot(dzh_dwh.T, dah_dzh * dcost_dah)\n",
    "\n",
    "    # Update Weights, gradient descent\n",
    "    wh -= lr * dcost_wh #hidden layer\n",
    "    wo -= lr * dcost_wo #Output layer\n",
    "    \n",
    "    # Update bias, gradient descent\n",
    "    biash-=lr*sum(dah_dzh * dcost_dah) #hidden layer\n",
    "    biaso-=lr*sum(dcost_dzo)#Output layer\n",
    "    \n",
    "    #Add cost and epoch \n",
    "    xplot.append(epoch)\n",
    "    costplot.append(error_out.sum())\n",
    "\n",
    "#plot the cost as a function of iteration \n",
    "plt.plot(xplot,costplot)\n",
    "plt.xlabel('epoch')\n",
    "plt.ylabel('cost')\n",
    "#print the minimum of cost\n",
    "print(\"minimum cost\",min(costplot))"
   ]
  },
  {
   "cell_type": "code",
   "execution_count": 18,
   "metadata": {},
   "outputs": [
    {
     "name": "stdout",
     "output_type": "stream",
     "text": [
      "hidden layer weights\n",
      " [[-0.11411119  1.44920537 -0.38844373  1.27555714 -0.21382442  0.06181225]\n",
      " [-0.26285881  1.46204305  0.05847893  1.23034774 -0.17136182 -0.4207983 ]]\n"
     ]
    }
   ],
   "source": [
    "print(\"hidden layer weights\\n\",wh)"
   ]
  },
  {
   "cell_type": "code",
   "execution_count": 19,
   "metadata": {},
   "outputs": [
    {
     "name": "stdout",
     "output_type": "stream",
     "text": [
      "Output layer weights \n",
      " [[-0.12115949]\n",
      " [-1.3501659 ]\n",
      " [-0.23406243]\n",
      " [ 1.2319365 ]\n",
      " [-0.06081536]\n",
      " [-0.29399197]]\n"
     ]
    }
   ],
   "source": [
    "print(\"Output layer weights \\n\",wo)"
   ]
  },
  {
   "cell_type": "code",
   "execution_count": 20,
   "metadata": {},
   "outputs": [
    {
     "name": "stdout",
     "output_type": "stream",
     "text": [
      "output of network after training\n",
      " [[-0.5]\n",
      " [ 0.5]\n",
      " [ 0.5]\n",
      " [-0.5]]\n",
      "expected outputs\n",
      "  [[-0.5]\n",
      " [ 0.5]\n",
      " [ 0.5]\n",
      " [-0.5]]\n"
     ]
    }
   ],
   "source": [
    "#Calculate the output with the best value of the weights and biases from the network\n",
    "zh = np.dot(data_feature, wh)+biash\n",
    "ah = tanh(zh)\n",
    "\n",
    "zo = np.dot(ah, wo)+biaso\n",
    "ao = tanh(zo)\n",
    "\n",
    "print(\"output of network after training\\n\",ao)\n",
    "print(\"expected outputs\\n \",data_labels)"
   ]
  },
  {
   "cell_type": "markdown",
   "metadata": {},
   "source": [
    "Repeat the above with batch gradient"
   ]
  },
  {
   "cell_type": "code",
   "execution_count": 21,
   "metadata": {},
   "outputs": [
    {
     "name": "stdout",
     "output_type": "stream",
     "text": [
      "minimum cost 8.566536392634425e-31\n"
     ]
    },
    {
     "data": {
      "image/png": "[encoded data removed]",
      "text/plain": [
       "<Figure size 432x288 with 1 Axes>"
      ]
     },
     "metadata": {
      "needs_background": "light"
     },
     "output_type": "display_data"
    }
   ],
   "source": [
    "#Add number of neurons in the hidden layer\n",
    "neuron_h_layer=6\n",
    "#Initialize the weights and biases\n",
    "#Weights to neuron in hidden layer, dimension(2,neuron_h_layer)\n",
    "wh = np.random.uniform(-.5,.5,size=(len(data_feature[0]),neuron_h_layer)) \n",
    "#Weights to neuron in output layer, dimension(neuron_h_layer,1)\n",
    "wo = np.random.uniform(-.5,.5,size=(neuron_h_layer, 1)) \n",
    "#bias hidden layer,dimension(neuron_h_layer,1)\n",
    "biash=np.random.uniform(-0.5,0.5,size=(1,neuron_h_layer))\n",
    "#bias output\n",
    "biaso=np.random.uniform(-0.5,0.5,size=(1,1))\n",
    "#learning rate\n",
    "lr = 0.1 \n",
    "#Initialize for making the cost plot\n",
    "xplot=[]\n",
    "costplot=[]\n",
    "#Train the network, this implements batch gradient descent, taking all sample at a time.\n",
    "for epoch in range(5000): \n",
    "    data=data_feature\n",
    "    data_l=data_labels\n",
    "    # First feedforward, goes to first hidden layer\n",
    "    zh = np.dot(data, wh)+biash\n",
    "    #Activation of first hidden layer \n",
    "    ah = tanh(zh)\n",
    "    #Output layer, takes previous layer output as input\n",
    "    zo = np.dot(ah, wo)+biaso\n",
    "    #This is output from the neural network\n",
    "    ao = tanh(zo)\n",
    "\n",
    "    # Calculate error\n",
    "    error_out = ((1 / 2) * (np.power((ao - data_l), 2)))\n",
    "    \n",
    "    #Back propagation, first output layer\n",
    "    dcost_dao = ao - data_l\n",
    "    dao_dzo = tanh_deriv(zo) \n",
    "    dzo_dwo = ah\n",
    "    dcost_wo = np.dot(dzo_dwo.T, dcost_dao * dao_dzo)\n",
    "\n",
    "    # Go to hidden layer\n",
    "\n",
    "    dcost_dzo = dcost_dao * dao_dzo #known from above\n",
    "    dzo_dah = wo\n",
    "    dcost_dah = np.dot(dcost_dzo , dzo_dah.T)\n",
    "    dah_dzh = tanh_deriv(zh) \n",
    "    dzh_dwh = data\n",
    "    dcost_wh = np.dot(dzh_dwh.T, dah_dzh * dcost_dah)\n",
    "\n",
    "    # Update Weights, gradient descent\n",
    "    wh -= lr * dcost_wh #hidden layer\n",
    "    wo -= lr * dcost_wo #Output layer\n",
    "    \n",
    "    # Update bias, gradient descent\n",
    "    biash-=lr*sum(dah_dzh * dcost_dah) #hidden layer\n",
    "    biaso-=lr*sum(dcost_dzo)#Output layer\n",
    "    \n",
    "    #Add cost and epoch \n",
    "    xplot.append(epoch)\n",
    "    costplot.append(error_out.sum())\n",
    "\n",
    "#plot the cost as a function of iteration \n",
    "plt.plot(xplot,costplot)\n",
    "plt.xlabel('epoch')\n",
    "plt.ylabel('cost')\n",
    "#print the minimum of cost\n",
    "print(\"minimum cost\",min(costplot))"
   ]
  },
  {
   "cell_type": "markdown",
   "metadata": {},
   "source": [
    "Takes less number of epoch, not surprising because before I was taking one sample at a time in each epoch."
   ]
  },
  {
   "cell_type": "code",
   "execution_count": 22,
   "metadata": {},
   "outputs": [
    {
     "name": "stdout",
     "output_type": "stream",
     "text": [
      "output of network after training\n",
      " [[-0.5]\n",
      " [ 0.5]\n",
      " [ 0.5]\n",
      " [-0.5]]\n",
      "expected outputs\n",
      "  [[-0.5]\n",
      " [ 0.5]\n",
      " [ 0.5]\n",
      " [-0.5]]\n"
     ]
    }
   ],
   "source": [
    "#Calculate the output with the best value of the weights and biases from the network\n",
    "zh = np.dot(data_feature, wh)+biash\n",
    "ah = tanh(zh)\n",
    "\n",
    "zo = np.dot(ah, wo)+biaso\n",
    "ao = tanh(zo)\n",
    "\n",
    "print(\"output of network after training\\n\",ao)\n",
    "print(\"expected outputs\\n \",data_labels)"
   ]
  },
  {
   "cell_type": "markdown",
   "metadata": {},
   "source": [
    "Now do this using matrices for a more general purpose code. Following the book by Michael Nielsen "
   ]
  },
  {
   "cell_type": "markdown",
   "metadata": {},
   "source": [
    "$w_{jk}$ is the weight for the connection between the $k^{th}$\n",
    " neuron in the l layer, and the $j^{th}$\n",
    " neuron in the (l+1) layer. This implies dimensions check out for matrix multiplications and one can do z=\n",
    " (wa+b). One can write $a^l_j=\\sigma\\sum \\limits_{k}w^l_{jk}a^{l-1}_k+b^l_k$. Or by vectorizing $a^l=\\sigma (w^l a^{l-1}+b^l)$. \n",
    " \n",
    " "
   ]
  },
  {
   "cell_type": "code",
   "execution_count": 23,
   "metadata": {},
   "outputs": [
    {
     "data": {
      "text/plain": [
       "[<matplotlib.lines.Line2D at 0x1155baef0>]"
      ]
     },
     "execution_count": 23,
     "metadata": {},
     "output_type": "execute_result"
    },
    {
     "data": {
      "image/png": "[encoded data removed]",
      "text/plain": [
       "<Figure size 432x288 with 1 Axes>"
      ]
     },
     "metadata": {
      "needs_background": "light"
     },
     "output_type": "display_data"
    }
   ],
   "source": [
    "# 2 neuron input layer , 6 neuron hidden layer, 1 neuron output layer \n",
    "size=np.array([2,4,1]) \n",
    "biases=[np.random.randn(y, 1) for y in size[1:]]\n",
    "weights = [np.random.randn(y, x) \n",
    "                        for x, y in zip(size[:-1], size[1:])]\n",
    "#Data\n",
    "yd=data_labels.T\n",
    "xd=data_feature.T\n",
    "num_layers=len(size)\n",
    "\n",
    "def feedforward(a):\n",
    "    for b, w in zip(biases,weights):\n",
    "        a=tanh(np.dot(w,a)+b)\n",
    "    return a\n",
    "\n",
    "def cost_derivative(output_activations, y):\n",
    "        \"\"\"Return the vector of partial derivatives \\partial C_x /\n",
    "        \\partial a for the output activations.\"\"\"\n",
    "        return (output_activations-y)  \n",
    "def backprop(x,y):\n",
    "    x=data_feature.T\n",
    "    nabla_b=[np.zeros(b.shape) for b in biases]\n",
    "    nabla_w=[np.zeros(w.shape) for w in weights]\n",
    "\n",
    "#feed forward\n",
    "    activation=x\n",
    "    activations=[x]\n",
    "    zs=[]\n",
    "    for b, w in zip(biases,weights):\n",
    "        z=np.dot(w,activation)+b\n",
    "        zs.append(z)\n",
    "        activation=tanh(z)\n",
    "        activations.append(activation)\n",
    "       # print('activations\\n',activations)\n",
    "        #print(\"####\")\n",
    "#backward pass    \n",
    "    delta=cost_derivative(activations[-1],y)*tanh_deriv(zs[-1]) #BP1\n",
    "    nabla_b[-1]=delta\n",
    "    nabla_w[-1]=np.dot(delta,activations[-2].T)\n",
    "    for l in range(2,num_layers):\n",
    "        z=zs[-l]\n",
    "        sp=tanh_deriv(z)\n",
    "        delta=np.dot(weights[-l+1].T,delta)*sp\n",
    "        nabla_b[-l]=delta\n",
    "        nabla_w[-l]=np.dot(delta,activations[-l-1].T)\n",
    "    #print('l',nabla_b)\n",
    "    return (nabla_b,nabla_w)   \n",
    "#Initialize for making the cost plot\n",
    "xplot=[]\n",
    "costplot=[]\n",
    "#Run gradient descent \n",
    "#learning rate\n",
    "lr = 0.1\n",
    "for epoch in range(4000):\n",
    "    #Create an array of indexes, same as length of training data\n",
    "    a=np.arange(len(data_feature))\n",
    "    #Randomly shuffle the array\n",
    "    random.shuffle(a)\n",
    "    #Pick the first element of a and choose one data point and the corresponding label\n",
    "    #x=xd[:,a[0]] #make sure it is a numpy array and not a vector\n",
    "    #y=yd[:,a[0]]\n",
    "    x=xd\n",
    "    y=yd\n",
    "    nabla_b = [np.zeros(b.shape) for b in biases]\n",
    "    nabla_w = [np.zeros(w.shape) for w in weights]\n",
    "    delta_nabla_b, delta_nabla_w=backprop(x,y)\n",
    "    nabla_b = [nb+dnb for nb, dnb in zip(nabla_b, delta_nabla_b)]\n",
    "    nabla_w = [nw+dnw for nw, dnw in zip(nabla_w, delta_nabla_w)]\n",
    "    weights = [w-(lr*nw) for w, nw in zip(weights, nabla_w)]\n",
    "    biases=[b-(lr*nb) for b, nb in zip(biases,nabla_b)]\n",
    "    \n",
    "    # See the output of the network, with the updated weights and biases\n",
    "    error_out = ((1 / 2) * (np.power((feedforward(x) - y), 2)))\n",
    "    #Add cost and epoch \n",
    "    xplot.append(epoch)\n",
    "    costplot.append(error_out.sum())    \n",
    "plt.plot(xplot,costplot)    "
   ]
  },
  {
   "cell_type": "code",
   "execution_count": 24,
   "metadata": {},
   "outputs": [
    {
     "data": {
      "text/plain": [
       "array([[-0.5,  0.5,  0.5, -0.5]])"
      ]
     },
     "execution_count": 24,
     "metadata": {},
     "output_type": "execute_result"
    }
   ],
   "source": [
    "feedforward(x)"
   ]
  },
  {
   "cell_type": "markdown",
   "metadata": {},
   "source": [
    "Do this with Stochastic GD."
   ]
  },
  {
   "cell_type": "code",
   "execution_count": 25,
   "metadata": {},
   "outputs": [
    {
     "data": {
      "text/plain": [
       "[<matplotlib.lines.Line2D at 0x1154dcb38>]"
      ]
     },
     "execution_count": 25,
     "metadata": {},
     "output_type": "execute_result"
    },
    {
     "data": {
      "image/png": "[encoded data removed]",
      "text/plain": [
       "<Figure size 432x288 with 1 Axes>"
      ]
     },
     "metadata": {
      "needs_background": "light"
     },
     "output_type": "display_data"
    }
   ],
   "source": [
    "# 2 neuron input layer , 6 neuron hidden layer, 1 neuron output layer \n",
    "size=np.array([2,4,1]) \n",
    "biases=[np.random.randn(y, 1) for y in size[1:]]\n",
    "weights = [np.random.randn(y, x) \n",
    "                        for x, y in zip(size[:-1], size[1:])]\n",
    "#Data\n",
    "yd=data_labels.T\n",
    "xd=data_feature.T\n",
    "num_layers=len(size)\n",
    "\n",
    "def feedforward(a):\n",
    "    for b, w in zip(biases,weights):\n",
    "        a=tanh(np.dot(w,a)+b)\n",
    "    return a\n",
    "\n",
    "def cost_derivative(output_activations, y):\n",
    "        \"\"\"Return the vector of partial derivatives \\partial C_x /\n",
    "        \\partial a for the output activations.\"\"\"\n",
    "        return (output_activations-y)  \n",
    "def backprop(x,y):\n",
    "    x=data_feature.T\n",
    "    nabla_b=[np.zeros(b.shape) for b in biases]\n",
    "    nabla_w=[np.zeros(w.shape) for w in weights]\n",
    "\n",
    "#feed forward\n",
    "    activation=x\n",
    "    activations=[x]\n",
    "    zs=[]\n",
    "    for b, w in zip(biases,weights):\n",
    "        z=np.dot(w,activation)+b\n",
    "        zs.append(z)\n",
    "        activation=tanh(z)\n",
    "        activations.append(activation)\n",
    "       # print('activations\\n',activations)\n",
    "        #print(\"####\")\n",
    "#backward pass    \n",
    "    delta=cost_derivative(activations[-1],y)*tanh_deriv(zs[-1]) #BP1\n",
    "    nabla_b[-1]=delta\n",
    "    nabla_w[-1]=np.dot(delta,activations[-2].T)\n",
    "    for l in range(2,num_layers):\n",
    "        z=zs[-l]\n",
    "        sp=tanh_deriv(z)\n",
    "        delta=np.dot(weights[-l+1].T,delta)*sp\n",
    "        nabla_b[-l]=delta\n",
    "        nabla_w[-l]=np.dot(delta,activations[-l-1].T)\n",
    "    #print('l',nabla_b)\n",
    "    return (nabla_b,nabla_w)   \n",
    "#Initialize for making the cost plot\n",
    "xplot=[]\n",
    "costplot=[]\n",
    "#Run gradient descent \n",
    "#learning rate\n",
    "lr = 0.1\n",
    "\n",
    "for epoch in range(400):\n",
    "    #Create an array of indexes, same as length of training data\n",
    "    a=np.arange(len(data_feature))\n",
    "    #Randomly shuffle the array\n",
    "    random.shuffle(a)\n",
    "    #Pick the first element of a and choose one data point and the corresponding label\n",
    "    x=xd[:,a[0]] #make sure it is a numpy array and not a vector\n",
    "    y=yd[:,a[0]]\n",
    "    #x=xd\n",
    "    #y=yd\n",
    "    nabla_b = [np.zeros(b.shape) for b in biases]\n",
    "    nabla_w = [np.zeros(w.shape) for w in weights]\n",
    "    delta_nabla_b, delta_nabla_w=backprop(x,y)\n",
    "    nabla_b = [nb+dnb for nb, dnb in zip(nabla_b, delta_nabla_b)]\n",
    "    nabla_w = [nw+dnw for nw, dnw in zip(nabla_w, delta_nabla_w)]\n",
    "    weights = [w-(lr*nw) for w, nw in zip(weights, nabla_w)]\n",
    "    biases=[b-(lr*nb) for b, nb in zip(biases,nabla_b)]\n",
    "    \n",
    "    # See the output of the network, with the updated weights and biases\n",
    "    error_out = ((1 / 2) * (np.power((feedforward(x) - y), 2)))\n",
    "    #Add cost and epoch \n",
    "    xplot.append(epoch)\n",
    "    costplot.append(error_out.sum())    \n",
    "plt.plot(xplot,costplot)    "
   ]
  },
  {
   "cell_type": "code",
   "execution_count": 13,
   "metadata": {},
   "outputs": [
    {
     "data": {
      "text/plain": [
       "array([[-0.5,  0.5,  0.5, -0.5]])"
      ]
     },
     "execution_count": 13,
     "metadata": {},
     "output_type": "execute_result"
    }
   ],
   "source": [
    "feedforward(x)"
   ]
  },
  {
   "cell_type": "markdown",
   "metadata": {},
   "source": [
    "Works with all samples, when I take only 1 sample at a time does not converge. need to see what is going on. "
   ]
  }
 ],
 "metadata": {
  "kernelspec": {
   "display_name": "Python 3",
   "language": "python",
   "name": "python3"
  },
  "language_info": {
   "codemirror_mode": {
    "name": "ipython",
    "version": 3
   },
   "file_extension": ".py",
   "mimetype": "text/x-python",
   "name": "python",
   "nbconvert_exporter": "python",
   "pygments_lexer": "ipython3",
   "version": "3.6.8"
  }
 },
 "nbformat": 4,
 "nbformat_minor": 2
}
