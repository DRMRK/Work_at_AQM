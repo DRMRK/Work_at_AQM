{
 "cells": [
  {
   "cell_type": "code",
   "execution_count": 1,
   "metadata": {},
   "outputs": [
    {
     "name": "stderr",
     "output_type": "stream",
     "text": [
      "Using TensorFlow backend.\n"
     ]
    },
    {
     "name": "stdout",
     "output_type": "stream",
     "text": [
      "Epoch 1/20\n",
      "1000/1000 [==============================] - 0s 269us/step - loss: 2.3888 - acc: 0.1030\n",
      "Epoch 2/20\n",
      "1000/1000 [==============================] - 0s 21us/step - loss: 2.3627 - acc: 0.1030\n",
      "Epoch 3/20\n",
      "1000/1000 [==============================] - 0s 23us/step - loss: 2.3388 - acc: 0.1090\n",
      "Epoch 4/20\n",
      "1000/1000 [==============================] - 0s 22us/step - loss: 2.3155 - acc: 0.1130\n",
      "Epoch 5/20\n",
      "1000/1000 [==============================] - 0s 22us/step - loss: 2.3166 - acc: 0.1190\n",
      "Epoch 6/20\n",
      "1000/1000 [==============================] - 0s 23us/step - loss: 2.3169 - acc: 0.0950\n",
      "Epoch 7/20\n",
      "1000/1000 [==============================] - 0s 20us/step - loss: 2.3094 - acc: 0.1110\n",
      "Epoch 8/20\n",
      "1000/1000 [==============================] - 0s 23us/step - loss: 2.3073 - acc: 0.1060\n",
      "Epoch 9/20\n",
      "1000/1000 [==============================] - 0s 22us/step - loss: 2.3112 - acc: 0.1180\n",
      "Epoch 10/20\n",
      "1000/1000 [==============================] - 0s 22us/step - loss: 2.3102 - acc: 0.1120\n",
      "Epoch 11/20\n",
      "1000/1000 [==============================] - 0s 23us/step - loss: 2.3107 - acc: 0.1090\n",
      "Epoch 12/20\n",
      "1000/1000 [==============================] - 0s 21us/step - loss: 2.3008 - acc: 0.1220\n",
      "Epoch 13/20\n",
      "1000/1000 [==============================] - 0s 21us/step - loss: 2.3062 - acc: 0.0970\n",
      "Epoch 14/20\n",
      "1000/1000 [==============================] - 0s 23us/step - loss: 2.2951 - acc: 0.1040\n",
      "Epoch 15/20\n",
      "1000/1000 [==============================] - 0s 20us/step - loss: 2.3020 - acc: 0.1190\n",
      "Epoch 16/20\n",
      "1000/1000 [==============================] - 0s 21us/step - loss: 2.3040 - acc: 0.1090\n",
      "Epoch 17/20\n",
      "1000/1000 [==============================] - 0s 24us/step - loss: 2.3061 - acc: 0.1170\n",
      "Epoch 18/20\n",
      "1000/1000 [==============================] - 0s 19us/step - loss: 2.3007 - acc: 0.1150\n",
      "Epoch 19/20\n",
      "1000/1000 [==============================] - 0s 27us/step - loss: 2.2987 - acc: 0.1250\n",
      "Epoch 20/20\n",
      "1000/1000 [==============================] - 0s 22us/step - loss: 2.3018 - acc: 0.1170\n",
      "100/100 [==============================] - 0s 450us/step\n"
     ]
    }
   ],
   "source": [
    "import keras\n",
    "from keras.models import Sequential\n",
    "from keras.layers import Dense, Dropout, Activation \n",
    "from keras.optimizers import SGD\n",
    "import numpy as np\n",
    "import matplotlib.pyplot as plt\n",
    "x_train=np.random.random((1000,20))\n",
    "y_train=keras.utils.to_categorical(np.random.randint(10,size=(1000,1)),num_classes=10)\n",
    "\n",
    "x_test = np.random.random((100, 20))\n",
    "y_test = keras.utils.to_categorical(np.random.randint(10, size=(100, 1)), num_classes=10)\n",
    "\n",
    "model=Sequential()\n",
    "model.add(Dense(64,activation='relu',input_dim=20))\n",
    "model.add(Dropout(0.5)) \n",
    "model.add(Dense(64,activation='relu'))\n",
    "model.add(Dropout(0.5)) \n",
    "model.add(Dense(10, activation='softmax'))\n",
    "sgd = SGD(lr=0.01, decay=1e-6, momentum=0.9, nesterov=True)\n",
    "model.compile(loss='categorical_crossentropy', optimizer=sgd,metrics=['accuracy'])\n",
    "model.fit(x_train, y_train, epochs=20, batch_size=128)\n",
    "score = model.evaluate(x_test, y_test, batch_size=128)"
   ]
  },
  {
   "cell_type": "code",
   "execution_count": null,
   "metadata": {},
   "outputs": [],
   "source": []
  }
 ],
 "metadata": {
  "kernelspec": {
   "display_name": "Python 3",
   "language": "python",
   "name": "python3"
  },
  "language_info": {
   "codemirror_mode": {
    "name": "ipython",
    "version": 3
   },
   "file_extension": ".py",
   "mimetype": "text/x-python",
   "name": "python",
   "nbconvert_exporter": "python",
   "pygments_lexer": "ipython3",
   "version": "3.6.8"
  }
 },
 "nbformat": 4,
 "nbformat_minor": 2
}
